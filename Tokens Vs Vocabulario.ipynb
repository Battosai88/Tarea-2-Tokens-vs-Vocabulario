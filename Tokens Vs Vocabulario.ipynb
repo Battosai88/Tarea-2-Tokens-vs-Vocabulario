{
 "cells": [
  {
   "cell_type": "code",
   "execution_count": 89,
   "id": "266111e0",
   "metadata": {},
   "outputs": [],
   "source": [
    "import collections\n",
    "import nltk\n",
    "from collections import Counter\n",
    "import re\n",
    "import matplotlib.pyplot as plt \n",
    "import pandas as pd   \n",
    "import numpy as np  \n",
    "ejex=[]\n",
    "ejey=[]"
   ]
  },
  {
   "cell_type": "code",
   "execution_count": 90,
   "id": "6d3096d4",
   "metadata": {},
   "outputs": [
    {
     "name": "stdout",
     "output_type": "stream",
     "text": [
      "13\n"
     ]
    }
   ],
   "source": [
    "#contando la cantidad de tokens\n",
    "text='hola mi amigo se llama paco, paco buenos días como estas?'\n",
    "tokens = nltk.word_tokenize(text)\n",
    "num_tokens=len(tokens)\n",
    "print(num_tokens)"
   ]
  },
  {
   "cell_type": "code",
   "execution_count": 91,
   "id": "48f629d9",
   "metadata": {},
   "outputs": [
    {
     "name": "stdout",
     "output_type": "stream",
     "text": [
      "12\n"
     ]
    }
   ],
   "source": [
    "#contando el vocabulario\n",
    "counts=Counter(tokens)\n",
    "num_voc=len(counts)\n",
    "print(num_voc)"
   ]
  },
  {
   "cell_type": "code",
   "execution_count": 92,
   "id": "424a1e47",
   "metadata": {},
   "outputs": [
    {
     "name": "stdout",
     "output_type": "stream",
     "text": [
      "Counter({'paco': 2, 'hola': 1, 'mi': 1, 'amigo': 1, 'se': 1, 'llama': 1, ',': 1, 'buenos': 1, 'días': 1, 'como': 1, 'estas': 1, '?': 1})\n"
     ]
    }
   ],
   "source": [
    "print(counts)"
   ]
  },
  {
   "cell_type": "code",
   "execution_count": null,
   "id": "62f7f44a",
   "metadata": {},
   "outputs": [],
   "source": []
  },
  {
   "cell_type": "code",
   "execution_count": 93,
   "id": "55f167dc",
   "metadata": {},
   "outputs": [],
   "source": [
    "#Colocar la direccion del archivo data1\n",
    "data1 = pd.read_csv(r\"C:\\Users\\magutierrez\\Documents\\data1.csv\")"
   ]
  },
  {
   "cell_type": "code",
   "execution_count": 94,
   "id": "4fd7701e",
   "metadata": {},
   "outputs": [],
   "source": [
    "tokens1=nltk.word_tokenize(str(data1))"
   ]
  },
  {
   "cell_type": "code",
   "execution_count": 95,
   "id": "d7a18014",
   "metadata": {},
   "outputs": [
    {
     "name": "stdout",
     "output_type": "stream",
     "text": [
      "['titulo', '\\\\', '0', '7', 'World', 'Trade', 'Center', '1', 'Buildings', 'of', 'Nuffield', 'College', ',', 'Oxford', '2', 'Buildings', 'of', 'Jesus', 'College', ',', 'Oxford', '3', 'Ceilings', 'of', 'the', 'Natural', 'History', 'Museum', ',', 'London', '4', 'Capon', 'Chapel', '5', 'Cathedral', 'of', 'the', 'Immaculate', 'Conception', '(', 'Moscow', ')', '6', 'Catherine', 'de', \"'\", 'Medici', \"'s\", 'building', 'projects', '7', 'Cefnllys', 'Castle', '8', 'Bramshill', 'House', '9', 'Castle', '10', 'Buildings', 'and', 'architecture', 'of', 'Bristol', '11', 'Castell', 'Coch', '12', 'Bruce', 'Castle', '13', 'Brougham', 'Castle', '14', 'Buckton', 'Castle', '15', 'Buckingham', 'Palace', '16', 'Bramall', 'Hall', '17', 'Bodiam', 'Castle', '18', 'Blakeney', 'Chapel', '19', 'Benty', 'Grange', 'helmet', '20', 'Belton', 'House', '21', 'Borobudur', '22', 'Biblioteca', 'Marciana', '23', 'Acra', '(', 'fortress', ')', '24', 'Angkor', 'Wat', 'parrafo', '0', '[', \"'\\\\n\\\\n\\\\n\", \"'\", ',', \"'\", '(', \"'\", ',', \"'\", ',', \"'\", ',', \"'\", ',', 'or', \"'\", ',', \"'\", ')', 'refers', 'to', 't', '...', '1', '[', \"'\\\\n\", \"'\", ',', \"'\\\\n\", \"'\", ',', \"'The\", \"'\", ',', \"'\", ',', 'one', 'of', 'the', \"'\", ',', \"'\", 'of', 'the', '...', '2', '[', \"'\\\\n\", \"'\", ',', \"'\\\\n\", \"'\", ',', \"'The\", 'main', \"'\", ',', \"'\", ',', 'one', 'of', 'the', \"'\", ',', \"'\", 'o', '...', '3', '[', \"'\\\\n\", \"'\", ',', \"'\\\\n\", \"'\", ',', \"'\", 'A', 'pair', 'of', 'decorated', \"'\", ',', \"'\", 'in', 'the', '...', '4', '[', \"'\\\\n\\\\n\", \"'\", ',', \"'\", '(', \"'\", ',', \"'\", \"'\", ',', \"'\", ')', ',', 'also', 'historically', 'know', '...', '5', '[', \"'\\\\n\\\\n\", \"'\", ',', \"'The\", \"'\", ',', \"'\", 'is', 'a', \"'\", ',', \"'\", \"'\", ',', \"'\", 'at', \"'\", ',', '``', \"'s\", 'ce', '...', '6', '[', \"'\", 'included', 'the', \"'\", ',', \"'\", 'chapel', 'at', \"'\", ',', \"'\", ',', 'the', \"'\", ',', \"'\", ',', '...', '7', '[', \"'\\\\n\\\\n\", \"'\", ',', \"'\", '(', \"'\", ',', \"'\", ':', \"'\", ',', \"'\", ',', \"'\", ',', \"'\", ')', 'was', 'a', \"'\", ',', \"'\", \"'\", ',', \"'\", '...', '8', '[', \"'\\\\n\\\\n\", \"'\", ',', \"'\", ',', 'in', \"'\", ',', \"'\", ',', 'northeast', 'Hampshire', ',', 'Engl', '...', '9', '[', \"'\\\\n\\\\n\", \"'\", ',', \"'\", 'A', \"'\", ',', \"'\", 'is', 'a', 'type', 'of', \"'\", ',', \"'\", 'structure', 'b', '...', '10', '[', \"'\\\\n\\\\n\", \"'\", ',', \"'\", ',', 'the', 'largest', 'city', 'in', \"'\", ',', \"'\", ',', 'has', 'an', \"'\", '...', '11', '[', \"'\\\\n\\\\n\\\\n\", \"'\", ',', \"'\", '(', \"'\", ',', \"'\", ';', \"'\", ',', '``', 'for', \"'Red\", 'Castle', \"'\", ')', 'is', '...', '12', '[', \"'\\\\n\\\\n\", \"'\", ',', \"'\", '(', 'formerly', 'the', \"'\", ',', \"'\", ')', 'is', 'a', \"'\", ',', \"'\", '16th-', '...', '13', '[', \"'\\\\n\\\\n\", \"'\", ',', \"'\", '(', 'pronounced', \"'\", ',', \"'\", ')', 'is', 'a', \"'\", ',', \"'\", 'about', '2', '...', '14', '[', \"'\\\\n\\\\n\", \"'\", ',', \"'\", 'was', 'a', \"'\", ',', \"'\", \"'\", ',', \"'\", 'near', \"'\", ',', \"'\", 'in', \"'\", ',', \"'\", ',', '...', '15', '[', \"'\\\\n\\\\n\\\\n\", \"'\", ',', \"'\\\\n\", \"'\", ',', \"'\", '(', \"'\", ',', \"'\", ')', \"'\", ',', \"'\", 'is', 'a', \"'\", ',', \"'\", 'royal', '...', '16', '[', \"'\\\\n\", \"'\", ',', \"'\", 'is', 'a', 'largely', \"'\", ',', \"'\", \"'\", ',', \"'\", 'in', \"'\", ',', \"'\", ',', 'withi', '...', '17', '[', \"'\\\\n\\\\n\", \"'\", ',', \"'\", '(', \"'\", ',', \"'\", ')', 'is', 'a', '14th-century', \"'\", ',', \"'\", \"'\", ',', \"'\", '...', '18', '[', \"'\\\\n\", \"'\", ',', \"'\\\\n\\\\n\", \"'\", ',', \"'\", 'is', 'a', 'ruined', 'building', 'on', 'the', 'c', '...', '19', '[', \"'\\\\n\\\\n\\\\n\", \"'\", ',', \"'The\", \"'\", ',', \"'\", 'is', 'an', \"'\", ',', \"'\", \"'\", ',', \"'\", 'from', 'the', '...', '20', '[', \"'\\\\n\", \"'\", ',', \"'\", 'is', 'a', \"'\", ',', \"'\", 'listed', \"'\", ',', \"'\", 'in', 'the', 'parish', 'o', '...', '21', '[', \"'\\\\n\", \"'\", ',', \"'\", ',', 'also', 'transcribed', \"'\", ',', \"'\", '(', \"'\", ',', \"'\", ':', \"'\", ',', \"'\", ',', \"'\", '...', '22', '[', \"'\\\\n\", \"'\", ',', \"'The\", \"'\", ',', \"'\", 'or', \"'\", ',', \"'\", '(', \"'\", ',', \"'\", ':', \"'\", ',', \"'\", ',', 'but', 'in', '...', '23', '[', \"'The\", \"'\", ',', \"'\", '(', 'also', 'spelled', \"'\", ',', \"'\", ',', 'from', \"'\", ',', \"'\", ':', \"'\", ',', \"'\", '...', '24', '[', \"'\\\\n\", \"'\", ',', \"'\\\\n\", \"'\", ',', \"'\", '(', \"'\", ',', \"'\", ':', \"'\", ',', \"'\", ',', \"'\", ',', \"'\", \"'\", ',', \"'\", ';', 'meaning', '...']\n"
     ]
    }
   ],
   "source": [
    "print(tokens1)"
   ]
  },
  {
   "cell_type": "code",
   "execution_count": 96,
   "id": "aa5e6018",
   "metadata": {},
   "outputs": [],
   "source": [
    "#Tokens\n",
    "x1=len(tokens1)\n",
    "ejex.append(x1)"
   ]
  },
  {
   "cell_type": "code",
   "execution_count": 97,
   "id": "4e389c7f",
   "metadata": {},
   "outputs": [],
   "source": [
    "#contando el vocabulario\n",
    "counts1=Counter(tokens1)\n",
    "y1=len(counts1)\n",
    "ejey.append(y1)"
   ]
  },
  {
   "cell_type": "code",
   "execution_count": 98,
   "id": "ff45dcf5",
   "metadata": {},
   "outputs": [],
   "source": [
    "#Colocar la direccion del archivo data2\n",
    "data2 = pd.read_csv(r\"C:\\Users\\magutierrez\\Documents\\data2.csv\")"
   ]
  },
  {
   "cell_type": "code",
   "execution_count": 99,
   "id": "d5fbfdf4",
   "metadata": {},
   "outputs": [],
   "source": [
    "tokens2=nltk.word_tokenize(str(data2))"
   ]
  },
  {
   "cell_type": "code",
   "execution_count": 100,
   "id": "0d9c2d44",
   "metadata": {},
   "outputs": [],
   "source": [
    "#Tokens data2\n",
    "x2=len(tokens2)\n",
    "ejex.append(x2)"
   ]
  },
  {
   "cell_type": "code",
   "execution_count": 101,
   "id": "922358cb",
   "metadata": {},
   "outputs": [],
   "source": [
    "#contando el vocabulario data2\n",
    "counts2=Counter(tokens2)\n",
    "y2=len(counts2)\n",
    "ejey.append(y2)"
   ]
  },
  {
   "cell_type": "code",
   "execution_count": 102,
   "id": "efaf3e94",
   "metadata": {},
   "outputs": [],
   "source": [
    "#Colocar la direccion del archivo data3\n",
    "data3 = pd.read_csv(r\"C:\\Users\\magutierrez\\Documents\\data3.csv\")"
   ]
  },
  {
   "cell_type": "code",
   "execution_count": 103,
   "id": "10c32f48",
   "metadata": {},
   "outputs": [
    {
     "name": "stdout",
     "output_type": "stream",
     "text": [
      "['titulo', '\\\\', '0', '7', 'World', 'Trade', 'Center', '1', 'Hebron', 'Church', '(', 'Intermont', ',', 'West', 'Virginia', ')', '2', 'Harry', 'F.', 'Sinclair', 'House', '3', 'Hoysala', 'architecture', '4', 'Hoxne', 'Hoard', '...', '...', '1302', 'Blakeney', 'Chapel', '1303', 'Belton', 'House', '1304', 'Acra', '(', 'fortress', ')', '1305', 'Biblioteca', 'Marciana', '1306', 'Angkor', 'Wat', 'parrafo', '0', '[', \"'\\\\n\\\\n\\\\n\", \"'\", ',', \"'\", '(', \"'\", ',', \"'\", ',', \"'\", ',', \"'\", ',', 'or', \"'\", ',', \"'\", ')', 'refers', 'to', 't', '...', '1', '[', \"'\\\\n\\\\n\", \"'\", ',', \"'\", '(', 'also', 'historically', 'known', 'as', \"'\", ',', \"'\", ',', \"'\", '...', '2', '[', \"'\\\\n\\\\n\", \"'\", ',', \"'The\", \"'\", ',', \"'\", 'is', 'a', 'mansion', 'at', 'the', 'southea', '...', '3', '[', \"'\\\\n\\\\n\", \"'\", ',', \"'\", 'is', 'the', 'building', 'style', 'in', \"'\", ',', \"'\", 'devel', '...', '4', '[', \"'\\\\n\\\\n\", \"'\", ',', \"'\\\\n\", \"'\", ',', \"'The\", \"'\", ',', \"'\", '(', \"'\", ',', \"'\", \"'\", ',', \"'\", ')', \"'\", ',', \"'\", 'is', 'th', '...', '...', '...', '1302', '[', \"'\\\\n\", \"'\", ',', \"'\\\\n\\\\n\", \"'\", ',', \"'\", 'is', 'a', 'ruined', 'building', 'on', 'the', 'c', '...', '1303', '[', \"'\\\\n\", \"'\", ',', \"'\", 'is', 'a', \"'\", ',', \"'\", 'listed', \"'\", ',', \"'\", 'in', 'the', 'parish', 'o', '...', '1304', '[', \"'The\", \"'\", ',', \"'\", '(', 'also', 'spelled', \"'\", ',', \"'\", ',', 'from', \"'\", ',', \"'\", ':', \"'\", ',', \"'\", '...', '1305', '[', \"'\\\\n\", \"'\", ',', \"'The\", \"'\", ',', \"'\", 'or', \"'\", ',', \"'\", '(', \"'\", ',', \"'\", ':', \"'\", ',', \"'\", ',', 'but', 'in', '...', '1306', '[', \"'\\\\n\", \"'\", ',', \"'\\\\n\", \"'\", ',', \"'\", '(', \"'\", ',', \"'\", ':', \"'\", ',', \"'\", ',', \"'\", ',', \"'\", \"'\", ',', \"'\", ';', 'meaning', '...', '[', '1307', 'rows', 'x', '2', 'columns', ']']\n"
     ]
    }
   ],
   "source": [
    "tokens3=nltk.word_tokenize(str(data3))\n",
    "print(tokens3)"
   ]
  },
  {
   "cell_type": "code",
   "execution_count": 104,
   "id": "a4c6ed6a",
   "metadata": {},
   "outputs": [],
   "source": [
    "#Tokens data3\n",
    "x3=len(tokens3)\n",
    "ejex.append(x3)"
   ]
  },
  {
   "cell_type": "code",
   "execution_count": 105,
   "id": "6d843fcc",
   "metadata": {},
   "outputs": [],
   "source": [
    "#contando el vocabulario data3\n",
    "counts3=Counter(tokens3)\n",
    "y3=len(counts3)\n",
    "ejey.append(y3)"
   ]
  },
  {
   "cell_type": "code",
   "execution_count": 115,
   "id": "c7f8a361",
   "metadata": {},
   "outputs": [
    {
     "data": {
      "text/plain": [
       "[<matplotlib.lines.Line2D at 0x1af6e555490>]"
      ]
     },
     "execution_count": 115,
     "metadata": {},
     "output_type": "execute_result"
    },
    {
     "data": {
      "image/png": "[encoded data removed]",
      "text/plain": [
       "<Figure size 432x288 with 1 Axes>"
      ]
     },
     "metadata": {
      "needs_background": "light"
     },
     "output_type": "display_data"
    }
   ],
   "source": [
    "#Graficamos la Cantidad de Tokens\n",
    "plt.plot(ejex)"
   ]
  },
  {
   "cell_type": "code",
   "execution_count": 116,
   "id": "64fd5bd7",
   "metadata": {},
   "outputs": [
    {
     "data": {
      "text/plain": [
       "[<matplotlib.lines.Line2D at 0x1af6e5b4070>]"
      ]
     },
     "execution_count": 116,
     "metadata": {},
     "output_type": "execute_result"
    },
    {
     "data": {
      "image/png": "[encoded data removed]",
      "text/plain": [
       "<Figure size 432x288 with 1 Axes>"
      ]
     },
     "metadata": {
      "needs_background": "light"
     },
     "output_type": "display_data"
    }
   ],
   "source": [
    "#Graficamos la Cantidad de Vocabulario\n",
    "plt.plot(ejey)"
   ]
  },
  {
   "cell_type": "code",
   "execution_count": null,
   "id": "8241fb44",
   "metadata": {},
   "outputs": [],
   "source": []
  }
 ],
 "metadata": {
  "kernelspec": {
   "display_name": "Python 3 (ipykernel)",
   "language": "python",
   "name": "python3"
  },
  "language_info": {
   "codemirror_mode": {
    "name": "ipython",
    "version": 3
   },
   "file_extension": ".py",
   "mimetype": "text/x-python",
   "name": "python",
   "nbconvert_exporter": "python",
   "pygments_lexer": "ipython3",
   "version": "3.9.7"
  }
 },
 "nbformat": 4,
 "nbformat_minor": 5
}
